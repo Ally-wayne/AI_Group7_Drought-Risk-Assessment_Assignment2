import csv
import os
import pandas as pd
import numpy as np
from IPython.display import display, HTML

def assess_drought(rainfall, soil_moisture, temperature, water_availability):
    """Rule-based expert system for drought risk assessment."""
    try:
        rainfall = float(rainfall)
        soil_moisture = float(soil_moisture)
        temperature = float(temperature)
        water_availability = float(water_availability)
        
        if rainfall < 50 and soil_moisture < 30:
            return "Moderate Drought: Implement water conservation measures and monitor conditions."
        elif rainfall < 20 and temperature > 35 and soil_moisture < 20:
            return "Severe Drought: Immediate irrigation and emergency relief are required."
        elif water_availability < 40 and soil_moisture < 15 and temperature > 38:
            return "Extreme Drought: Government intervention, water rationing, and food aid necessary."
        elif rainfall > 200 and temperature < 25 and soil_moisture > 70:
            return "No Drought: Adequate rainfall and soil conditions. Monitor for waterlogging."
        elif temperature > 40 and water_availability < 30:
            return "High Heat Risk: Extreme temperatures may lead to drought conditions soon."
        else:
            return "No significant drought risk detected. Maintain regular water management."
    except ValueError:
        return "Invalid input! Please enter numeric values."

def save_to_csv(data, csv_file="drought_data.csv"):
    """Save user input and assessment result to a CSV file using pandas."""
    columns = ["Rainfall (mm)", "Soil Moisture (%)", "Temperature (°C)", "Water Availability (%)", "Assessment Result"]
    df = pd.DataFrame([data], columns=columns)
    df.to_csv(csv_file, mode='w', header=True, index=False)  # Overwrite previous data

def evaluate_drought(rainfall, soil_moisture, temperature, water_availability):
    """Get user input, assess drought risk, and save data."""
    result = assess_drought(rainfall, soil_moisture, temperature, water_availability)
    save_to_csv([rainfall, soil_moisture, temperature, water_availability, result])
    return result

def display_result(rainfall, soil_moisture, temperature, water_availability, result):
    "Display the input data and result in bold and highlighted format."
    df = pd.DataFrame({
        "Rainfall (mm)": [rainfall],
        "Soil Moisture (%)": [soil_moisture],
        "Temperature (°C)": [temperature],
        "Water Availability (%)": [water_availability],
        "Assessment Result": [result]
    })
    display(df.style.set_properties(**{'font-weight': 'bold', 'background-color': '#FFFF99'})
                 .set_table_styles([
                     {'selector': 'th', 'props': [('font-weight', 'bold')]},
                     {'selector': 'td', 'props': [('font-weight', 'bold')]}
                 ]))

# Example Usage:
rainfall = input("Enter Rainfall (mm): ")
soil_moisture = input("Enter Soil Moisture (%): ")
temperature = input("Enter Temperature (°C): ")
water_availability = input("Enter Water Availability (%): ")

result = evaluate_drought(rainfall, soil_moisture, temperature, water_availability)
display_result(rainfall, soil_moisture, temperature, water_availability, result)

